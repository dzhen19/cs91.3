{
 "cells": [
  {
   "cell_type": "code",
   "execution_count": null,
   "metadata": {},
   "outputs": [
    {
     "ename": "",
     "evalue": "",
     "output_type": "error",
     "traceback": [
      "\u001b[1;31mRunning cells with 'Python 3.8.9 64-bit' requires ipykernel package.\n",
      "Run the following command to install 'ipykernel' into the Python environment. \n",
      "Command: '/usr/bin/python3 -m pip install ipykernel -U --user --force-reinstall'"
     ]
    }
   ],
   "source": [
    "import numpy as np\n",
    "from pyriemann.estimation import XdawnCovariances, Covariances\n",
    "from pyriemann.tangentspace import TangentSpace\n",
    "#import mne\n",
    "#from mne import io\n",
    "#from mne.datasets import sample\n",
    "from sklearn.metrics import mean_squared_error\n",
    "from sklearn.metrics import accuracy_score\n",
    "from sklearn.preprocessing import StandardScaler\n",
    "from sklearn.base import clone\n",
    "from sklearn.kernel_ridge import KernelRidge\n",
    "from sklearn.linear_model import LogisticRegression, SGDRegressor, LinearRegression, ElasticNet, BayesianRidge\n",
    "from sklearn.svm import LinearSVR, SVR\n",
    "from sklearn.model_selection import KFold, train_test_split\n",
    "from sklearn.metrics import confusion_matrix, ConfusionMatrixDisplay\n",
    "from sklearn.pipeline import make_pipeline\n",
    "from matplotlib import pyplot as plt\n",
    "from regression import KNearestNeighborRegression, TSRegressor\n",
    "import IOHelper\n",
    "from config import config\n"
   ]
  },
  {
   "cell_type": "code",
   "execution_count": null,
   "metadata": {},
   "outputs": [],
   "source": [
    "trainX, trainY = IOHelper.get_npz_data(config['data_dir'], verbose=True)\n"
   ]
  },
  {
   "cell_type": "code",
   "execution_count": null,
   "metadata": {},
   "outputs": [
    {
     "data": {
      "text/plain": [
       "(21464, 500, 129)"
      ]
     },
     "execution_count": 4,
     "metadata": {},
     "output_type": "execute_result"
    }
   ],
   "source": [
    "trainX.shape"
   ]
  },
  {
   "cell_type": "code",
   "execution_count": null,
   "metadata": {},
   "outputs": [],
   "source": [
    "trainY = trainY[:,1:]"
   ]
  },
  {
   "cell_type": "code",
   "execution_count": null,
   "metadata": {},
   "outputs": [],
   "source": [
    "sample_indices_channels = np.random.choice(trainX.shape[2], 30, replace=False)\n",
    "sample_indices_obs = np.random.choice(trainX.shape[0], 2000, replace=False)\n",
    "\n"
   ]
  },
  {
   "cell_type": "code",
   "execution_count": null,
   "metadata": {},
   "outputs": [],
   "source": [
    "trainX = trainX[:,:,sample_indices_channels]\n",
    "trainX = trainX[sample_indices_obs]\n",
    "trainY = trainY[sample_indices_obs]\n"
   ]
  },
  {
   "cell_type": "code",
   "execution_count": null,
   "metadata": {},
   "outputs": [],
   "source": [
    "estimator = Covariances()\n",
    "split = train_test_split(trainX, trainY, train_size=0.8, random_state=42)\n",
    "Xtrain, Xtest, ytrain, ytest = split\n",
    "Xtrain = np.swapaxes(Xtrain,1,2)\n",
    "Xtest = np.swapaxes(Xtest,1,2)\n",
    "\n",
    "Xtrain_covs = estimator.transform(Xtrain)\n",
    "Xtest_covs = estimator.transform(Xtest)"
   ]
  },
  {
   "cell_type": "code",
   "execution_count": null,
   "metadata": {},
   "outputs": [
    {
     "data": {
      "text/plain": [
       "KNearestNeighborRegression(n_neighbors=10)"
      ]
     },
     "execution_count": 9,
     "metadata": {},
     "output_type": "execute_result"
    }
   ],
   "source": [
    "knn = KNearestNeighborRegression(n_neighbors=10)\n",
    "knn.fit(X=Xtrain_covs,y=ytrain)"
   ]
  },
  {
   "cell_type": "code",
   "execution_count": null,
   "metadata": {},
   "outputs": [
    {
     "name": "stderr",
     "output_type": "stream",
     "text": [
      "C:\\Users\\Guy Berreby\\.virtualenvs\\Lab_4_Code-yIe1RBd0\\lib\\site-packages\\pyriemann\\utils\\distance.py:76: RuntimeWarning: invalid value encountered in log\n",
      "  return np.sqrt((np.log(eigvalsh(A, B))**2).sum())\n"
     ]
    }
   ],
   "source": [
    "preds = knn.predict(Xtest_covs)\n",
    "diff = preds - ytest\n",
    "#error_val_knn = np.sqrt( 1/(preds.shape[0])*np.sum(diff*diff,axis=0))\n",
    "error_val_knn = [np.sqrt(mean_squared_error(ytest[:,0],preds[:,0])), np.sqrt(mean_squared_error(ytest[:,1],preds[:,1]))]\n"
   ]
  },
  {
   "cell_type": "code",
   "execution_count": null,
   "metadata": {},
   "outputs": [
    {
     "data": {
      "text/plain": [
       "(200,)"
      ]
     },
     "execution_count": 21,
     "metadata": {},
     "output_type": "execute_result"
    }
   ],
   "source": []
  },
  {
   "cell_type": "code",
   "execution_count": null,
   "metadata": {},
   "outputs": [],
   "source": [
    "model_list = [ElasticNet(),BayesianRidge(),SVR(kernel=\"linear\"), SVR(kernel=\"rbf\"), LinearSVR()]\n",
    "all_model_errors = list()\n",
    "for model in model_list:\n",
    "\n",
    "    tanSpace_1 = TSRegressor(clf=clone(model))\n",
    "    tanSpace_1.fit(Xtrain_covs,ytrain[:,0])\n",
    "    \n",
    "    tanSpace_2 = TSRegressor(clf=clone(model))\n",
    "    tanSpace_2.fit(Xtrain_covs,ytrain[:,1])\n",
    "    \n",
    "    \n",
    "    error_vals_list = list()\n",
    "\n",
    "    preds = tanSpace_1.predict(Xtest_covs)\n",
    "    diff = preds - ytest[:,0]\n",
    "    error_val = np.sqrt(mean_squared_error(ytest[:,0],preds))\n",
    "    #error_val = np.sqrt( 1/(preds.shape[0])*np.sum(diff*diff,axis=0))\n",
    "    error_vals_list.append(error_val)\n",
    "    \n",
    "    preds = tanSpace_2.predict(Xtest_covs)\n",
    "    diff = preds - ytest[:,1]\n",
    "    error_val = np.sqrt(mean_squared_error(ytest[:,1],preds))\n",
    "    #error_val = np.sqrt( 1/(preds.shape[0])*np.sum(diff*diff,axis=0))\n",
    "    error_vals_list.append(error_val)\n",
    "\n",
    "    all_model_errors.append(error_vals_list)"
   ]
  },
  {
   "cell_type": "code",
   "execution_count": null,
   "metadata": {},
   "outputs": [
    {
     "name": "stdout",
     "output_type": "stream",
     "text": [
      "KNN RMS: [248.28592134069947, 151.1955486729024]\n",
      "ElasticNet RMS: [233.5484143188254, 144.59139310578163]\n",
      "Bayseian Ridge RMS: [234.11386973894957, 145.16815375115726]\n",
      "SVR (Linear) RMS: [237.62705174645487, 152.20895293415683]\n",
      "SVR (RBF) RMS: [234.9647118350431, 145.03204815476394]\n",
      "Linear SVR RMS: [247.29629126598994, 152.55175833364783]\n"
     ]
    }
   ],
   "source": [
    "print(\"KNN RMS:\",error_val_knn)\n",
    "print(\"ElasticNet RMS:\",all_model_errors[0])\n",
    "print(\"Bayseian Ridge RMS:\",all_model_errors[1])\n",
    "print(\"SVR (Linear) RMS:\",all_model_errors[2])\n",
    "print(\"SVR (RBF) RMS:\",all_model_errors[3])\n",
    "print(\"Linear SVR RMS:\",all_model_errors[4])\n"
   ]
  }
 ],
 "metadata": {
  "interpreter": {
   "hash": "da6b4ad787292e5b810b589fbd11adb129fbd4171ad7fced01e08d9eccb12aff"
  },
  "kernelspec": {
   "display_name": "Python 3.9.9 ('Lab_4_Code-yIe1RBd0')",
   "language": "python",
   "name": "python3"
  },
  "language_info": {
   "codemirror_mode": {
    "name": "ipython",
    "version": 3
   },
   "file_extension": ".py",
   "mimetype": "text/x-python",
   "name": "python",
   "nbconvert_exporter": "python",
   "pygments_lexer": "ipython3",
   "version": "3.8.9"
  },
  "orig_nbformat": 4
 },
 "nbformat": 4,
 "nbformat_minor": 2
}
